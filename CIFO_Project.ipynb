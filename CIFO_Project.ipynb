{
 "cells": [
  {
   "cell_type": "code",
   "execution_count": 2,
   "id": "ef8295c7",
   "metadata": {},
   "outputs": [],
   "source": [
    "import numpy as np\n",
    "import pandas as pd\n",
    "from scipy.spatial import distance_matrix\n",
    "from numpy import random\n",
    "import math \n",
    "import random as rand"
   ]
  },
  {
   "cell_type": "code",
   "execution_count": 6,
   "id": "dcadb888",
   "metadata": {},
   "outputs": [
    {
     "ename": "FileNotFoundError",
     "evalue": "[Errno 2] No such file or directory: 'Performance_File.xlsx'",
     "output_type": "error",
     "traceback": [
      "\u001b[1;31m---------------------------------------------------------------------------\u001b[0m",
      "\u001b[1;31mFileNotFoundError\u001b[0m                         Traceback (most recent call last)",
      "\u001b[1;32m~\\AppData\\Local\\Temp/ipykernel_3380/2617727218.py\u001b[0m in \u001b[0;36m<module>\u001b[1;34m\u001b[0m\n\u001b[0;32m      2\u001b[0m \u001b[0mdf_2\u001b[0m \u001b[1;33m=\u001b[0m \u001b[0mpd\u001b[0m\u001b[1;33m.\u001b[0m\u001b[0mread_excel\u001b[0m\u001b[1;33m(\u001b[0m\u001b[1;34mr'2392-cities_problems.xlsx'\u001b[0m\u001b[1;33m)\u001b[0m\u001b[1;33m\u001b[0m\u001b[1;33m\u001b[0m\u001b[0m\n\u001b[0;32m      3\u001b[0m \u001b[1;31m#df_3 = pd.read_excel(r'a280.xlsx')\u001b[0m\u001b[1;33m\u001b[0m\u001b[1;33m\u001b[0m\u001b[1;33m\u001b[0m\u001b[0m\n\u001b[1;32m----> 4\u001b[1;33m \u001b[0mdf_4\u001b[0m \u001b[1;33m=\u001b[0m \u001b[0mpd\u001b[0m\u001b[1;33m.\u001b[0m\u001b[0mread_excel\u001b[0m\u001b[1;33m(\u001b[0m\u001b[1;34mr'Performance_File.xlsx'\u001b[0m\u001b[1;33m)\u001b[0m\u001b[1;33m\u001b[0m\u001b[1;33m\u001b[0m\u001b[0m\n\u001b[0m",
      "\u001b[1;32m~\\anaconda3\\envs\\DS\\lib\\site-packages\\pandas\\util\\_decorators.py\u001b[0m in \u001b[0;36mwrapper\u001b[1;34m(*args, **kwargs)\u001b[0m\n\u001b[0;32m    309\u001b[0m                     \u001b[0mstacklevel\u001b[0m\u001b[1;33m=\u001b[0m\u001b[0mstacklevel\u001b[0m\u001b[1;33m,\u001b[0m\u001b[1;33m\u001b[0m\u001b[1;33m\u001b[0m\u001b[0m\n\u001b[0;32m    310\u001b[0m                 )\n\u001b[1;32m--> 311\u001b[1;33m             \u001b[1;32mreturn\u001b[0m \u001b[0mfunc\u001b[0m\u001b[1;33m(\u001b[0m\u001b[1;33m*\u001b[0m\u001b[0margs\u001b[0m\u001b[1;33m,\u001b[0m \u001b[1;33m**\u001b[0m\u001b[0mkwargs\u001b[0m\u001b[1;33m)\u001b[0m\u001b[1;33m\u001b[0m\u001b[1;33m\u001b[0m\u001b[0m\n\u001b[0m\u001b[0;32m    312\u001b[0m \u001b[1;33m\u001b[0m\u001b[0m\n\u001b[0;32m    313\u001b[0m         \u001b[1;32mreturn\u001b[0m \u001b[0mwrapper\u001b[0m\u001b[1;33m\u001b[0m\u001b[1;33m\u001b[0m\u001b[0m\n",
      "\u001b[1;32m~\\anaconda3\\envs\\DS\\lib\\site-packages\\pandas\\io\\excel\\_base.py\u001b[0m in \u001b[0;36mread_excel\u001b[1;34m(io, sheet_name, header, names, index_col, usecols, squeeze, dtype, engine, converters, true_values, false_values, skiprows, nrows, na_values, keep_default_na, na_filter, verbose, parse_dates, date_parser, thousands, comment, skipfooter, convert_float, mangle_dupe_cols, storage_options)\u001b[0m\n\u001b[0;32m    362\u001b[0m     \u001b[1;32mif\u001b[0m \u001b[1;32mnot\u001b[0m \u001b[0misinstance\u001b[0m\u001b[1;33m(\u001b[0m\u001b[0mio\u001b[0m\u001b[1;33m,\u001b[0m \u001b[0mExcelFile\u001b[0m\u001b[1;33m)\u001b[0m\u001b[1;33m:\u001b[0m\u001b[1;33m\u001b[0m\u001b[1;33m\u001b[0m\u001b[0m\n\u001b[0;32m    363\u001b[0m         \u001b[0mshould_close\u001b[0m \u001b[1;33m=\u001b[0m \u001b[1;32mTrue\u001b[0m\u001b[1;33m\u001b[0m\u001b[1;33m\u001b[0m\u001b[0m\n\u001b[1;32m--> 364\u001b[1;33m         \u001b[0mio\u001b[0m \u001b[1;33m=\u001b[0m \u001b[0mExcelFile\u001b[0m\u001b[1;33m(\u001b[0m\u001b[0mio\u001b[0m\u001b[1;33m,\u001b[0m \u001b[0mstorage_options\u001b[0m\u001b[1;33m=\u001b[0m\u001b[0mstorage_options\u001b[0m\u001b[1;33m,\u001b[0m \u001b[0mengine\u001b[0m\u001b[1;33m=\u001b[0m\u001b[0mengine\u001b[0m\u001b[1;33m)\u001b[0m\u001b[1;33m\u001b[0m\u001b[1;33m\u001b[0m\u001b[0m\n\u001b[0m\u001b[0;32m    365\u001b[0m     \u001b[1;32melif\u001b[0m \u001b[0mengine\u001b[0m \u001b[1;32mand\u001b[0m \u001b[0mengine\u001b[0m \u001b[1;33m!=\u001b[0m \u001b[0mio\u001b[0m\u001b[1;33m.\u001b[0m\u001b[0mengine\u001b[0m\u001b[1;33m:\u001b[0m\u001b[1;33m\u001b[0m\u001b[1;33m\u001b[0m\u001b[0m\n\u001b[0;32m    366\u001b[0m         raise ValueError(\n",
      "\u001b[1;32m~\\anaconda3\\envs\\DS\\lib\\site-packages\\pandas\\io\\excel\\_base.py\u001b[0m in \u001b[0;36m__init__\u001b[1;34m(self, path_or_buffer, engine, storage_options)\u001b[0m\n\u001b[0;32m   1189\u001b[0m                 \u001b[0mext\u001b[0m \u001b[1;33m=\u001b[0m \u001b[1;34m\"xls\"\u001b[0m\u001b[1;33m\u001b[0m\u001b[1;33m\u001b[0m\u001b[0m\n\u001b[0;32m   1190\u001b[0m             \u001b[1;32melse\u001b[0m\u001b[1;33m:\u001b[0m\u001b[1;33m\u001b[0m\u001b[1;33m\u001b[0m\u001b[0m\n\u001b[1;32m-> 1191\u001b[1;33m                 ext = inspect_excel_format(\n\u001b[0m\u001b[0;32m   1192\u001b[0m                     \u001b[0mcontent_or_path\u001b[0m\u001b[1;33m=\u001b[0m\u001b[0mpath_or_buffer\u001b[0m\u001b[1;33m,\u001b[0m \u001b[0mstorage_options\u001b[0m\u001b[1;33m=\u001b[0m\u001b[0mstorage_options\u001b[0m\u001b[1;33m\u001b[0m\u001b[1;33m\u001b[0m\u001b[0m\n\u001b[0;32m   1193\u001b[0m                 )\n",
      "\u001b[1;32m~\\anaconda3\\envs\\DS\\lib\\site-packages\\pandas\\io\\excel\\_base.py\u001b[0m in \u001b[0;36minspect_excel_format\u001b[1;34m(content_or_path, storage_options)\u001b[0m\n\u001b[0;32m   1068\u001b[0m         \u001b[0mcontent_or_path\u001b[0m \u001b[1;33m=\u001b[0m \u001b[0mBytesIO\u001b[0m\u001b[1;33m(\u001b[0m\u001b[0mcontent_or_path\u001b[0m\u001b[1;33m)\u001b[0m\u001b[1;33m\u001b[0m\u001b[1;33m\u001b[0m\u001b[0m\n\u001b[0;32m   1069\u001b[0m \u001b[1;33m\u001b[0m\u001b[0m\n\u001b[1;32m-> 1070\u001b[1;33m     with get_handle(\n\u001b[0m\u001b[0;32m   1071\u001b[0m         \u001b[0mcontent_or_path\u001b[0m\u001b[1;33m,\u001b[0m \u001b[1;34m\"rb\"\u001b[0m\u001b[1;33m,\u001b[0m \u001b[0mstorage_options\u001b[0m\u001b[1;33m=\u001b[0m\u001b[0mstorage_options\u001b[0m\u001b[1;33m,\u001b[0m \u001b[0mis_text\u001b[0m\u001b[1;33m=\u001b[0m\u001b[1;32mFalse\u001b[0m\u001b[1;33m\u001b[0m\u001b[1;33m\u001b[0m\u001b[0m\n\u001b[0;32m   1072\u001b[0m     ) as handle:\n",
      "\u001b[1;32m~\\anaconda3\\envs\\DS\\lib\\site-packages\\pandas\\io\\common.py\u001b[0m in \u001b[0;36mget_handle\u001b[1;34m(path_or_buf, mode, encoding, compression, memory_map, is_text, errors, storage_options)\u001b[0m\n\u001b[0;32m    709\u001b[0m         \u001b[1;32melse\u001b[0m\u001b[1;33m:\u001b[0m\u001b[1;33m\u001b[0m\u001b[1;33m\u001b[0m\u001b[0m\n\u001b[0;32m    710\u001b[0m             \u001b[1;31m# Binary mode\u001b[0m\u001b[1;33m\u001b[0m\u001b[1;33m\u001b[0m\u001b[1;33m\u001b[0m\u001b[0m\n\u001b[1;32m--> 711\u001b[1;33m             \u001b[0mhandle\u001b[0m \u001b[1;33m=\u001b[0m \u001b[0mopen\u001b[0m\u001b[1;33m(\u001b[0m\u001b[0mhandle\u001b[0m\u001b[1;33m,\u001b[0m \u001b[0mioargs\u001b[0m\u001b[1;33m.\u001b[0m\u001b[0mmode\u001b[0m\u001b[1;33m)\u001b[0m\u001b[1;33m\u001b[0m\u001b[1;33m\u001b[0m\u001b[0m\n\u001b[0m\u001b[0;32m    712\u001b[0m         \u001b[0mhandles\u001b[0m\u001b[1;33m.\u001b[0m\u001b[0mappend\u001b[0m\u001b[1;33m(\u001b[0m\u001b[0mhandle\u001b[0m\u001b[1;33m)\u001b[0m\u001b[1;33m\u001b[0m\u001b[1;33m\u001b[0m\u001b[0m\n\u001b[0;32m    713\u001b[0m \u001b[1;33m\u001b[0m\u001b[0m\n",
      "\u001b[1;31mFileNotFoundError\u001b[0m: [Errno 2] No such file or directory: 'Performance_File.xlsx'"
     ]
    }
   ],
   "source": [
    "df_1 = pd.read_excel(r'German Cities.xlsx')\n",
    "df_2 = pd.read_excel(r'2392-cities_problems.xlsx')\n",
    "#df_3 = pd.read_excel(r'a280.xlsx')\n",
    "df_4 = pd.read_excel(r'Performance_File.xlsx')"
   ]
  },
  {
   "cell_type": "code",
   "execution_count": 81,
   "id": "1fabe373",
   "metadata": {},
   "outputs": [],
   "source": [
    "distance_matrix_1 = pd.DataFrame(distance_matrix(df_1.values, df_1.values), index=df_1.index, columns=df_1.index)"
   ]
  },
  {
   "cell_type": "code",
   "execution_count": 82,
   "id": "ad7f6b83",
   "metadata": {},
   "outputs": [],
   "source": [
    "\n",
    "distance_matrix_2 = pd.DataFrame(distance_matrix(df_2.values, df_2.values), index=df_2.index, columns=df_2.index)"
   ]
  },
  {
   "cell_type": "code",
   "execution_count": 90,
   "id": "0958ca39",
   "metadata": {},
   "outputs": [
    {
     "ename": "TypeError",
     "evalue": "unsupported operand type(s) for -: 'str' and 'int'",
     "output_type": "error",
     "traceback": [
      "\u001b[0;31m---------------------------------------------------------------------------\u001b[0m",
      "\u001b[0;31mTypeError\u001b[0m                                 Traceback (most recent call last)",
      "\u001b[0;32m/var/folders/jm/3l4428s17mv3hg4cdsyb2qz80000gn/T/ipykernel_5365/15615333.py\u001b[0m in \u001b[0;36m<module>\u001b[0;34m\u001b[0m\n\u001b[0;32m----> 1\u001b[0;31m \u001b[0mdistance_matrix_3\u001b[0m \u001b[0;34m=\u001b[0m \u001b[0mpd\u001b[0m\u001b[0;34m.\u001b[0m\u001b[0mDataFrame\u001b[0m\u001b[0;34m(\u001b[0m\u001b[0mdistance_matrix\u001b[0m\u001b[0;34m(\u001b[0m\u001b[0mdf_3\u001b[0m\u001b[0;34m.\u001b[0m\u001b[0mvalues\u001b[0m\u001b[0;34m,\u001b[0m \u001b[0mdf_3\u001b[0m\u001b[0;34m.\u001b[0m\u001b[0mvalues\u001b[0m\u001b[0;34m)\u001b[0m\u001b[0;34m,\u001b[0m \u001b[0mindex\u001b[0m\u001b[0;34m=\u001b[0m\u001b[0mdf_3\u001b[0m\u001b[0;34m.\u001b[0m\u001b[0mindex\u001b[0m\u001b[0;34m,\u001b[0m \u001b[0mcolumns\u001b[0m\u001b[0;34m=\u001b[0m\u001b[0mdf_3\u001b[0m\u001b[0;34m.\u001b[0m\u001b[0mindex\u001b[0m\u001b[0;34m)\u001b[0m\u001b[0;34m\u001b[0m\u001b[0;34m\u001b[0m\u001b[0m\n\u001b[0m",
      "\u001b[0;32m/opt/anaconda3/envs/DS/lib/python3.8/site-packages/scipy/spatial/kdtree.py\u001b[0m in \u001b[0;36mdistance_matrix\u001b[0;34m(x, y, p, threshold)\u001b[0m\n\u001b[1;32m    915\u001b[0m \u001b[0;34m\u001b[0m\u001b[0m\n\u001b[1;32m    916\u001b[0m     \u001b[0;32mif\u001b[0m \u001b[0mm\u001b[0m\u001b[0;34m*\u001b[0m\u001b[0mn\u001b[0m\u001b[0;34m*\u001b[0m\u001b[0mk\u001b[0m \u001b[0;34m<=\u001b[0m \u001b[0mthreshold\u001b[0m\u001b[0;34m:\u001b[0m\u001b[0;34m\u001b[0m\u001b[0;34m\u001b[0m\u001b[0m\n\u001b[0;32m--> 917\u001b[0;31m         \u001b[0;32mreturn\u001b[0m \u001b[0mminkowski_distance\u001b[0m\u001b[0;34m(\u001b[0m\u001b[0mx\u001b[0m\u001b[0;34m[\u001b[0m\u001b[0;34m:\u001b[0m\u001b[0;34m,\u001b[0m\u001b[0mnp\u001b[0m\u001b[0;34m.\u001b[0m\u001b[0mnewaxis\u001b[0m\u001b[0;34m,\u001b[0m\u001b[0;34m:\u001b[0m\u001b[0;34m]\u001b[0m\u001b[0;34m,\u001b[0m\u001b[0my\u001b[0m\u001b[0;34m[\u001b[0m\u001b[0mnp\u001b[0m\u001b[0;34m.\u001b[0m\u001b[0mnewaxis\u001b[0m\u001b[0;34m,\u001b[0m\u001b[0;34m:\u001b[0m\u001b[0;34m,\u001b[0m\u001b[0;34m:\u001b[0m\u001b[0;34m]\u001b[0m\u001b[0;34m,\u001b[0m\u001b[0mp\u001b[0m\u001b[0;34m)\u001b[0m\u001b[0;34m\u001b[0m\u001b[0;34m\u001b[0m\u001b[0m\n\u001b[0m\u001b[1;32m    918\u001b[0m     \u001b[0;32melse\u001b[0m\u001b[0;34m:\u001b[0m\u001b[0;34m\u001b[0m\u001b[0;34m\u001b[0m\u001b[0m\n\u001b[1;32m    919\u001b[0m         \u001b[0mresult\u001b[0m \u001b[0;34m=\u001b[0m \u001b[0mnp\u001b[0m\u001b[0;34m.\u001b[0m\u001b[0mempty\u001b[0m\u001b[0;34m(\u001b[0m\u001b[0;34m(\u001b[0m\u001b[0mm\u001b[0m\u001b[0;34m,\u001b[0m\u001b[0mn\u001b[0m\u001b[0;34m)\u001b[0m\u001b[0;34m,\u001b[0m\u001b[0mdtype\u001b[0m\u001b[0;34m=\u001b[0m\u001b[0mfloat\u001b[0m\u001b[0;34m)\u001b[0m  \u001b[0;31m# FIXME: figure out the best dtype\u001b[0m\u001b[0;34m\u001b[0m\u001b[0;34m\u001b[0m\u001b[0m\n",
      "\u001b[0;32m/opt/anaconda3/envs/DS/lib/python3.8/site-packages/scipy/spatial/kdtree.py\u001b[0m in \u001b[0;36mminkowski_distance\u001b[0;34m(x, y, p)\u001b[0m\n\u001b[1;32m     76\u001b[0m         \u001b[0;32mreturn\u001b[0m \u001b[0mminkowski_distance_p\u001b[0m\u001b[0;34m(\u001b[0m\u001b[0mx\u001b[0m\u001b[0;34m,\u001b[0m \u001b[0my\u001b[0m\u001b[0;34m,\u001b[0m \u001b[0mp\u001b[0m\u001b[0;34m)\u001b[0m\u001b[0;34m\u001b[0m\u001b[0;34m\u001b[0m\u001b[0m\n\u001b[1;32m     77\u001b[0m     \u001b[0;32melse\u001b[0m\u001b[0;34m:\u001b[0m\u001b[0;34m\u001b[0m\u001b[0;34m\u001b[0m\u001b[0m\n\u001b[0;32m---> 78\u001b[0;31m         \u001b[0;32mreturn\u001b[0m \u001b[0mminkowski_distance_p\u001b[0m\u001b[0;34m(\u001b[0m\u001b[0mx\u001b[0m\u001b[0;34m,\u001b[0m \u001b[0my\u001b[0m\u001b[0;34m,\u001b[0m \u001b[0mp\u001b[0m\u001b[0;34m)\u001b[0m\u001b[0;34m**\u001b[0m\u001b[0;34m(\u001b[0m\u001b[0;36m1.\u001b[0m\u001b[0;34m/\u001b[0m\u001b[0mp\u001b[0m\u001b[0;34m)\u001b[0m\u001b[0;34m\u001b[0m\u001b[0;34m\u001b[0m\u001b[0m\n\u001b[0m\u001b[1;32m     79\u001b[0m \u001b[0;34m\u001b[0m\u001b[0m\n\u001b[1;32m     80\u001b[0m \u001b[0;34m\u001b[0m\u001b[0m\n",
      "\u001b[0;32m/opt/anaconda3/envs/DS/lib/python3.8/site-packages/scipy/spatial/kdtree.py\u001b[0m in \u001b[0;36mminkowski_distance_p\u001b[0;34m(x, y, p)\u001b[0m\n\u001b[1;32m     49\u001b[0m         \u001b[0;32mreturn\u001b[0m \u001b[0mnp\u001b[0m\u001b[0;34m.\u001b[0m\u001b[0msum\u001b[0m\u001b[0;34m(\u001b[0m\u001b[0mnp\u001b[0m\u001b[0;34m.\u001b[0m\u001b[0mabs\u001b[0m\u001b[0;34m(\u001b[0m\u001b[0my\u001b[0m\u001b[0;34m-\u001b[0m\u001b[0mx\u001b[0m\u001b[0;34m)\u001b[0m\u001b[0;34m,\u001b[0m \u001b[0maxis\u001b[0m\u001b[0;34m=\u001b[0m\u001b[0;34m-\u001b[0m\u001b[0;36m1\u001b[0m\u001b[0;34m)\u001b[0m\u001b[0;34m\u001b[0m\u001b[0;34m\u001b[0m\u001b[0m\n\u001b[1;32m     50\u001b[0m     \u001b[0;32melse\u001b[0m\u001b[0;34m:\u001b[0m\u001b[0;34m\u001b[0m\u001b[0;34m\u001b[0m\u001b[0m\n\u001b[0;32m---> 51\u001b[0;31m         \u001b[0;32mreturn\u001b[0m \u001b[0mnp\u001b[0m\u001b[0;34m.\u001b[0m\u001b[0msum\u001b[0m\u001b[0;34m(\u001b[0m\u001b[0mnp\u001b[0m\u001b[0;34m.\u001b[0m\u001b[0mabs\u001b[0m\u001b[0;34m(\u001b[0m\u001b[0my\u001b[0m\u001b[0;34m-\u001b[0m\u001b[0mx\u001b[0m\u001b[0;34m)\u001b[0m\u001b[0;34m**\u001b[0m\u001b[0mp\u001b[0m\u001b[0;34m,\u001b[0m \u001b[0maxis\u001b[0m\u001b[0;34m=\u001b[0m\u001b[0;34m-\u001b[0m\u001b[0;36m1\u001b[0m\u001b[0;34m)\u001b[0m\u001b[0;34m\u001b[0m\u001b[0;34m\u001b[0m\u001b[0m\n\u001b[0m\u001b[1;32m     52\u001b[0m \u001b[0;34m\u001b[0m\u001b[0m\n\u001b[1;32m     53\u001b[0m \u001b[0;34m\u001b[0m\u001b[0m\n",
      "\u001b[0;31mTypeError\u001b[0m: unsupported operand type(s) for -: 'str' and 'int'"
     ]
    }
   ],
   "source": [
    "distance_matrix_3 = pd.DataFrame(distance_matrix(df_3.values, df_3.values), index=df_3.index, columns=df_3.index)"
   ]
  },
  {
   "cell_type": "code",
   "execution_count": 91,
   "id": "67ffb09c",
   "metadata": {},
   "outputs": [
    {
     "ename": "TypeError",
     "evalue": "unsupported operand type(s) for -: 'str' and 'int'",
     "output_type": "error",
     "traceback": [
      "\u001b[0;31m---------------------------------------------------------------------------\u001b[0m",
      "\u001b[0;31mTypeError\u001b[0m                                 Traceback (most recent call last)",
      "\u001b[0;32m/var/folders/jm/3l4428s17mv3hg4cdsyb2qz80000gn/T/ipykernel_5365/1646869848.py\u001b[0m in \u001b[0;36m<module>\u001b[0;34m\u001b[0m\n\u001b[0;32m----> 1\u001b[0;31m \u001b[0mdistance_matrix_3\u001b[0m \u001b[0;34m=\u001b[0m \u001b[0mpd\u001b[0m\u001b[0;34m.\u001b[0m\u001b[0mDataFrame\u001b[0m\u001b[0;34m(\u001b[0m\u001b[0mdistance_matrix\u001b[0m\u001b[0;34m(\u001b[0m\u001b[0mdf_3\u001b[0m\u001b[0;34m.\u001b[0m\u001b[0mvalues\u001b[0m\u001b[0;34m,\u001b[0m \u001b[0mdf_3\u001b[0m\u001b[0;34m.\u001b[0m\u001b[0mvalues\u001b[0m\u001b[0;34m)\u001b[0m\u001b[0;34m,\u001b[0m \u001b[0mindex\u001b[0m\u001b[0;34m=\u001b[0m\u001b[0mdf_3\u001b[0m\u001b[0;34m.\u001b[0m\u001b[0mindex\u001b[0m\u001b[0;34m,\u001b[0m \u001b[0mcolumns\u001b[0m\u001b[0;34m=\u001b[0m\u001b[0mdf_3\u001b[0m\u001b[0;34m.\u001b[0m\u001b[0mindex\u001b[0m\u001b[0;34m)\u001b[0m\u001b[0;34m\u001b[0m\u001b[0;34m\u001b[0m\u001b[0m\n\u001b[0m",
      "\u001b[0;32m/opt/anaconda3/envs/DS/lib/python3.8/site-packages/scipy/spatial/kdtree.py\u001b[0m in \u001b[0;36mdistance_matrix\u001b[0;34m(x, y, p, threshold)\u001b[0m\n\u001b[1;32m    915\u001b[0m \u001b[0;34m\u001b[0m\u001b[0m\n\u001b[1;32m    916\u001b[0m     \u001b[0;32mif\u001b[0m \u001b[0mm\u001b[0m\u001b[0;34m*\u001b[0m\u001b[0mn\u001b[0m\u001b[0;34m*\u001b[0m\u001b[0mk\u001b[0m \u001b[0;34m<=\u001b[0m \u001b[0mthreshold\u001b[0m\u001b[0;34m:\u001b[0m\u001b[0;34m\u001b[0m\u001b[0;34m\u001b[0m\u001b[0m\n\u001b[0;32m--> 917\u001b[0;31m         \u001b[0;32mreturn\u001b[0m \u001b[0mminkowski_distance\u001b[0m\u001b[0;34m(\u001b[0m\u001b[0mx\u001b[0m\u001b[0;34m[\u001b[0m\u001b[0;34m:\u001b[0m\u001b[0;34m,\u001b[0m\u001b[0mnp\u001b[0m\u001b[0;34m.\u001b[0m\u001b[0mnewaxis\u001b[0m\u001b[0;34m,\u001b[0m\u001b[0;34m:\u001b[0m\u001b[0;34m]\u001b[0m\u001b[0;34m,\u001b[0m\u001b[0my\u001b[0m\u001b[0;34m[\u001b[0m\u001b[0mnp\u001b[0m\u001b[0;34m.\u001b[0m\u001b[0mnewaxis\u001b[0m\u001b[0;34m,\u001b[0m\u001b[0;34m:\u001b[0m\u001b[0;34m,\u001b[0m\u001b[0;34m:\u001b[0m\u001b[0;34m]\u001b[0m\u001b[0;34m,\u001b[0m\u001b[0mp\u001b[0m\u001b[0;34m)\u001b[0m\u001b[0;34m\u001b[0m\u001b[0;34m\u001b[0m\u001b[0m\n\u001b[0m\u001b[1;32m    918\u001b[0m     \u001b[0;32melse\u001b[0m\u001b[0;34m:\u001b[0m\u001b[0;34m\u001b[0m\u001b[0;34m\u001b[0m\u001b[0m\n\u001b[1;32m    919\u001b[0m         \u001b[0mresult\u001b[0m \u001b[0;34m=\u001b[0m \u001b[0mnp\u001b[0m\u001b[0;34m.\u001b[0m\u001b[0mempty\u001b[0m\u001b[0;34m(\u001b[0m\u001b[0;34m(\u001b[0m\u001b[0mm\u001b[0m\u001b[0;34m,\u001b[0m\u001b[0mn\u001b[0m\u001b[0;34m)\u001b[0m\u001b[0;34m,\u001b[0m\u001b[0mdtype\u001b[0m\u001b[0;34m=\u001b[0m\u001b[0mfloat\u001b[0m\u001b[0;34m)\u001b[0m  \u001b[0;31m# FIXME: figure out the best dtype\u001b[0m\u001b[0;34m\u001b[0m\u001b[0;34m\u001b[0m\u001b[0m\n",
      "\u001b[0;32m/opt/anaconda3/envs/DS/lib/python3.8/site-packages/scipy/spatial/kdtree.py\u001b[0m in \u001b[0;36mminkowski_distance\u001b[0;34m(x, y, p)\u001b[0m\n\u001b[1;32m     76\u001b[0m         \u001b[0;32mreturn\u001b[0m \u001b[0mminkowski_distance_p\u001b[0m\u001b[0;34m(\u001b[0m\u001b[0mx\u001b[0m\u001b[0;34m,\u001b[0m \u001b[0my\u001b[0m\u001b[0;34m,\u001b[0m \u001b[0mp\u001b[0m\u001b[0;34m)\u001b[0m\u001b[0;34m\u001b[0m\u001b[0;34m\u001b[0m\u001b[0m\n\u001b[1;32m     77\u001b[0m     \u001b[0;32melse\u001b[0m\u001b[0;34m:\u001b[0m\u001b[0;34m\u001b[0m\u001b[0;34m\u001b[0m\u001b[0m\n\u001b[0;32m---> 78\u001b[0;31m         \u001b[0;32mreturn\u001b[0m \u001b[0mminkowski_distance_p\u001b[0m\u001b[0;34m(\u001b[0m\u001b[0mx\u001b[0m\u001b[0;34m,\u001b[0m \u001b[0my\u001b[0m\u001b[0;34m,\u001b[0m \u001b[0mp\u001b[0m\u001b[0;34m)\u001b[0m\u001b[0;34m**\u001b[0m\u001b[0;34m(\u001b[0m\u001b[0;36m1.\u001b[0m\u001b[0;34m/\u001b[0m\u001b[0mp\u001b[0m\u001b[0;34m)\u001b[0m\u001b[0;34m\u001b[0m\u001b[0;34m\u001b[0m\u001b[0m\n\u001b[0m\u001b[1;32m     79\u001b[0m \u001b[0;34m\u001b[0m\u001b[0m\n\u001b[1;32m     80\u001b[0m \u001b[0;34m\u001b[0m\u001b[0m\n",
      "\u001b[0;32m/opt/anaconda3/envs/DS/lib/python3.8/site-packages/scipy/spatial/kdtree.py\u001b[0m in \u001b[0;36mminkowski_distance_p\u001b[0;34m(x, y, p)\u001b[0m\n\u001b[1;32m     49\u001b[0m         \u001b[0;32mreturn\u001b[0m \u001b[0mnp\u001b[0m\u001b[0;34m.\u001b[0m\u001b[0msum\u001b[0m\u001b[0;34m(\u001b[0m\u001b[0mnp\u001b[0m\u001b[0;34m.\u001b[0m\u001b[0mabs\u001b[0m\u001b[0;34m(\u001b[0m\u001b[0my\u001b[0m\u001b[0;34m-\u001b[0m\u001b[0mx\u001b[0m\u001b[0;34m)\u001b[0m\u001b[0;34m,\u001b[0m \u001b[0maxis\u001b[0m\u001b[0;34m=\u001b[0m\u001b[0;34m-\u001b[0m\u001b[0;36m1\u001b[0m\u001b[0;34m)\u001b[0m\u001b[0;34m\u001b[0m\u001b[0;34m\u001b[0m\u001b[0m\n\u001b[1;32m     50\u001b[0m     \u001b[0;32melse\u001b[0m\u001b[0;34m:\u001b[0m\u001b[0;34m\u001b[0m\u001b[0;34m\u001b[0m\u001b[0m\n\u001b[0;32m---> 51\u001b[0;31m         \u001b[0;32mreturn\u001b[0m \u001b[0mnp\u001b[0m\u001b[0;34m.\u001b[0m\u001b[0msum\u001b[0m\u001b[0;34m(\u001b[0m\u001b[0mnp\u001b[0m\u001b[0;34m.\u001b[0m\u001b[0mabs\u001b[0m\u001b[0;34m(\u001b[0m\u001b[0my\u001b[0m\u001b[0;34m-\u001b[0m\u001b[0mx\u001b[0m\u001b[0;34m)\u001b[0m\u001b[0;34m**\u001b[0m\u001b[0mp\u001b[0m\u001b[0;34m,\u001b[0m \u001b[0maxis\u001b[0m\u001b[0;34m=\u001b[0m\u001b[0;34m-\u001b[0m\u001b[0;36m1\u001b[0m\u001b[0;34m)\u001b[0m\u001b[0;34m\u001b[0m\u001b[0;34m\u001b[0m\u001b[0m\n\u001b[0m\u001b[1;32m     52\u001b[0m \u001b[0;34m\u001b[0m\u001b[0m\n\u001b[1;32m     53\u001b[0m \u001b[0;34m\u001b[0m\u001b[0m\n",
      "\u001b[0;31mTypeError\u001b[0m: unsupported operand type(s) for -: 'str' and 'int'"
     ]
    }
   ],
   "source": [
    "\n",
    "distance_matrix_3 = pd.DataFrame(distance_matrix(df_3.values, df_3.values), index=df_3.index, columns=df_3.index)"
   ]
  },
  {
   "cell_type": "code",
   "execution_count": 71,
   "id": "f122b3e8",
   "metadata": {},
   "outputs": [],
   "source": [
    " dm = pd.DataFrame(distance_matrix(df.values, df.values), index=df.index, columns=df.index)"
   ]
  },
  {
   "cell_type": "code",
   "execution_count": 72,
   "id": "7b4591ae",
   "metadata": {},
   "outputs": [
    {
     "data": {
      "text/html": [
       "<div>\n",
       "<style scoped>\n",
       "    .dataframe tbody tr th:only-of-type {\n",
       "        vertical-align: middle;\n",
       "    }\n",
       "\n",
       "    .dataframe tbody tr th {\n",
       "        vertical-align: top;\n",
       "    }\n",
       "\n",
       "    .dataframe thead th {\n",
       "        text-align: right;\n",
       "    }\n",
       "</style>\n",
       "<table border=\"1\" class=\"dataframe\">\n",
       "  <thead>\n",
       "    <tr style=\"text-align: right;\">\n",
       "      <th></th>\n",
       "      <th>0</th>\n",
       "      <th>1</th>\n",
       "      <th>2</th>\n",
       "      <th>3</th>\n",
       "      <th>4</th>\n",
       "      <th>5</th>\n",
       "      <th>6</th>\n",
       "      <th>7</th>\n",
       "      <th>8</th>\n",
       "      <th>9</th>\n",
       "      <th>...</th>\n",
       "      <th>2382</th>\n",
       "      <th>2383</th>\n",
       "      <th>2384</th>\n",
       "      <th>2385</th>\n",
       "      <th>2386</th>\n",
       "      <th>2387</th>\n",
       "      <th>2388</th>\n",
       "      <th>2389</th>\n",
       "      <th>2390</th>\n",
       "      <th>2391</th>\n",
       "    </tr>\n",
       "  </thead>\n",
       "  <tbody>\n",
       "    <tr>\n",
       "      <th>0</th>\n",
       "      <td>0.000000</td>\n",
       "      <td>804.398533</td>\n",
       "      <td>923.299518</td>\n",
       "      <td>1099.616751</td>\n",
       "      <td>1026.818874</td>\n",
       "      <td>980.080099</td>\n",
       "      <td>912.664780</td>\n",
       "      <td>893.955815</td>\n",
       "      <td>886.203701</td>\n",
       "      <td>1147.027899</td>\n",
       "      <td>...</td>\n",
       "      <td>1419.535840</td>\n",
       "      <td>1319.576447</td>\n",
       "      <td>1219.623712</td>\n",
       "      <td>1119.679418</td>\n",
       "      <td>823.502884</td>\n",
       "      <td>500.001000</td>\n",
       "      <td>400.000000</td>\n",
       "      <td>300.000000</td>\n",
       "      <td>199.002513</td>\n",
       "      <td>100.005000</td>\n",
       "    </tr>\n",
       "    <tr>\n",
       "      <th>1</th>\n",
       "      <td>804.398533</td>\n",
       "      <td>0.000000</td>\n",
       "      <td>275.000000</td>\n",
       "      <td>550.000000</td>\n",
       "      <td>696.419414</td>\n",
       "      <td>738.241153</td>\n",
       "      <td>851.469318</td>\n",
       "      <td>919.238816</td>\n",
       "      <td>992.471662</td>\n",
       "      <td>1197.351243</td>\n",
       "      <td>...</td>\n",
       "      <td>705.779711</td>\n",
       "      <td>614.918694</td>\n",
       "      <td>527.375578</td>\n",
       "      <td>445.112345</td>\n",
       "      <td>158.113883</td>\n",
       "      <td>357.191825</td>\n",
       "      <td>438.014840</td>\n",
       "      <td>525.030475</td>\n",
       "      <td>616.542780</td>\n",
       "      <td>709.074044</td>\n",
       "    </tr>\n",
       "    <tr>\n",
       "      <th>2</th>\n",
       "      <td>923.299518</td>\n",
       "      <td>275.000000</td>\n",
       "      <td>0.000000</td>\n",
       "      <td>275.000000</td>\n",
       "      <td>450.693909</td>\n",
       "      <td>512.957113</td>\n",
       "      <td>665.676348</td>\n",
       "      <td>750.416551</td>\n",
       "      <td>838.525492</td>\n",
       "      <td>1004.104078</td>\n",
       "      <td>...</td>\n",
       "      <td>851.469318</td>\n",
       "      <td>777.817459</td>\n",
       "      <td>710.633520</td>\n",
       "      <td>651.920241</td>\n",
       "      <td>427.931069</td>\n",
       "      <td>576.594311</td>\n",
       "      <td>630.303102</td>\n",
       "      <td>693.600750</td>\n",
       "      <td>764.852927</td>\n",
       "      <td>841.225891</td>\n",
       "    </tr>\n",
       "    <tr>\n",
       "      <th>3</th>\n",
       "      <td>1099.616751</td>\n",
       "      <td>550.000000</td>\n",
       "      <td>275.000000</td>\n",
       "      <td>0.000000</td>\n",
       "      <td>269.258240</td>\n",
       "      <td>364.005494</td>\n",
       "      <td>559.016994</td>\n",
       "      <td>657.647322</td>\n",
       "      <td>756.637298</td>\n",
       "      <td>856.767180</td>\n",
       "      <td>...</td>\n",
       "      <td>1050.297577</td>\n",
       "      <td>991.526601</td>\n",
       "      <td>939.747306</td>\n",
       "      <td>896.172416</td>\n",
       "      <td>701.783442</td>\n",
       "      <td>829.810822</td>\n",
       "      <td>868.306973</td>\n",
       "      <td>915.290664</td>\n",
       "      <td>970.115972</td>\n",
       "      <td>1031.400019</td>\n",
       "    </tr>\n",
       "    <tr>\n",
       "      <th>4</th>\n",
       "      <td>1026.818874</td>\n",
       "      <td>696.419414</td>\n",
       "      <td>450.693909</td>\n",
       "      <td>269.258240</td>\n",
       "      <td>0.000000</td>\n",
       "      <td>100.000000</td>\n",
       "      <td>300.000000</td>\n",
       "      <td>400.000000</td>\n",
       "      <td>500.000000</td>\n",
       "      <td>588.090129</td>\n",
       "      <td>...</td>\n",
       "      <td>1290.590950</td>\n",
       "      <td>1222.957481</td>\n",
       "      <td>1160.010776</td>\n",
       "      <td>1102.553854</td>\n",
       "      <td>854.400375</td>\n",
       "      <td>885.203931</td>\n",
       "      <td>893.955815</td>\n",
       "      <td>912.664780</td>\n",
       "      <td>941.076511</td>\n",
       "      <td>979.176184</td>\n",
       "    </tr>\n",
       "    <tr>\n",
       "      <th>...</th>\n",
       "      <td>...</td>\n",
       "      <td>...</td>\n",
       "      <td>...</td>\n",
       "      <td>...</td>\n",
       "      <td>...</td>\n",
       "      <td>...</td>\n",
       "      <td>...</td>\n",
       "      <td>...</td>\n",
       "      <td>...</td>\n",
       "      <td>...</td>\n",
       "      <td>...</td>\n",
       "      <td>...</td>\n",
       "      <td>...</td>\n",
       "      <td>...</td>\n",
       "      <td>...</td>\n",
       "      <td>...</td>\n",
       "      <td>...</td>\n",
       "      <td>...</td>\n",
       "      <td>...</td>\n",
       "      <td>...</td>\n",
       "      <td>...</td>\n",
       "    </tr>\n",
       "    <tr>\n",
       "      <th>2387</th>\n",
       "      <td>500.001000</td>\n",
       "      <td>357.191825</td>\n",
       "      <td>576.594311</td>\n",
       "      <td>829.810822</td>\n",
       "      <td>885.203931</td>\n",
       "      <td>888.699049</td>\n",
       "      <td>928.539714</td>\n",
       "      <td>963.527893</td>\n",
       "      <td>1007.266598</td>\n",
       "      <td>1253.546968</td>\n",
       "      <td>...</td>\n",
       "      <td>919.870100</td>\n",
       "      <td>819.976219</td>\n",
       "      <td>720.111797</td>\n",
       "      <td>620.291061</td>\n",
       "      <td>330.130277</td>\n",
       "      <td>0.000000</td>\n",
       "      <td>100.005000</td>\n",
       "      <td>200.002500</td>\n",
       "      <td>301.000000</td>\n",
       "      <td>400.000000</td>\n",
       "    </tr>\n",
       "    <tr>\n",
       "      <th>2388</th>\n",
       "      <td>400.000000</td>\n",
       "      <td>438.014840</td>\n",
       "      <td>630.303102</td>\n",
       "      <td>868.306973</td>\n",
       "      <td>893.955815</td>\n",
       "      <td>886.203701</td>\n",
       "      <td>904.299176</td>\n",
       "      <td>929.492872</td>\n",
       "      <td>964.446473</td>\n",
       "      <td>1217.404206</td>\n",
       "      <td>...</td>\n",
       "      <td>1019.746047</td>\n",
       "      <td>919.827158</td>\n",
       "      <td>819.928046</td>\n",
       "      <td>720.056942</td>\n",
       "      <td>427.734731</td>\n",
       "      <td>100.005000</td>\n",
       "      <td>0.000000</td>\n",
       "      <td>100.000000</td>\n",
       "      <td>201.002488</td>\n",
       "      <td>300.001667</td>\n",
       "    </tr>\n",
       "    <tr>\n",
       "      <th>2389</th>\n",
       "      <td>300.000000</td>\n",
       "      <td>525.030475</td>\n",
       "      <td>693.600750</td>\n",
       "      <td>915.290664</td>\n",
       "      <td>912.664780</td>\n",
       "      <td>893.955815</td>\n",
       "      <td>889.694892</td>\n",
       "      <td>904.299176</td>\n",
       "      <td>929.492872</td>\n",
       "      <td>1187.633361</td>\n",
       "      <td>...</td>\n",
       "      <td>1119.679418</td>\n",
       "      <td>1019.746047</td>\n",
       "      <td>919.827158</td>\n",
       "      <td>819.928046</td>\n",
       "      <td>526.076991</td>\n",
       "      <td>200.002500</td>\n",
       "      <td>100.000000</td>\n",
       "      <td>0.000000</td>\n",
       "      <td>101.004950</td>\n",
       "      <td>200.002500</td>\n",
       "    </tr>\n",
       "    <tr>\n",
       "      <th>2390</th>\n",
       "      <td>199.002513</td>\n",
       "      <td>616.542780</td>\n",
       "      <td>764.852927</td>\n",
       "      <td>970.115972</td>\n",
       "      <td>941.076511</td>\n",
       "      <td>911.934756</td>\n",
       "      <td>885.225960</td>\n",
       "      <td>888.608463</td>\n",
       "      <td>903.119593</td>\n",
       "      <td>1164.544976</td>\n",
       "      <td>...</td>\n",
       "      <td>1220.655562</td>\n",
       "      <td>1120.714058</td>\n",
       "      <td>1020.784012</td>\n",
       "      <td>920.869155</td>\n",
       "      <td>625.799489</td>\n",
       "      <td>301.000000</td>\n",
       "      <td>201.002488</td>\n",
       "      <td>101.004950</td>\n",
       "      <td>0.000000</td>\n",
       "      <td>99.000000</td>\n",
       "    </tr>\n",
       "    <tr>\n",
       "      <th>2391</th>\n",
       "      <td>100.005000</td>\n",
       "      <td>709.074044</td>\n",
       "      <td>841.225891</td>\n",
       "      <td>1031.400019</td>\n",
       "      <td>979.176184</td>\n",
       "      <td>940.736945</td>\n",
       "      <td>892.964725</td>\n",
       "      <td>885.203931</td>\n",
       "      <td>888.699049</td>\n",
       "      <td>1151.077756</td>\n",
       "      <td>...</td>\n",
       "      <td>1319.606381</td>\n",
       "      <td>1219.656099</td>\n",
       "      <td>1119.714696</td>\n",
       "      <td>1019.784781</td>\n",
       "      <td>724.006906</td>\n",
       "      <td>400.000000</td>\n",
       "      <td>300.001667</td>\n",
       "      <td>200.002500</td>\n",
       "      <td>99.000000</td>\n",
       "      <td>0.000000</td>\n",
       "    </tr>\n",
       "  </tbody>\n",
       "</table>\n",
       "<p>2392 rows × 2392 columns</p>\n",
       "</div>"
      ],
      "text/plain": [
       "             0           1           2            3            4     \\\n",
       "0        0.000000  804.398533  923.299518  1099.616751  1026.818874   \n",
       "1      804.398533    0.000000  275.000000   550.000000   696.419414   \n",
       "2      923.299518  275.000000    0.000000   275.000000   450.693909   \n",
       "3     1099.616751  550.000000  275.000000     0.000000   269.258240   \n",
       "4     1026.818874  696.419414  450.693909   269.258240     0.000000   \n",
       "...           ...         ...         ...          ...          ...   \n",
       "2387   500.001000  357.191825  576.594311   829.810822   885.203931   \n",
       "2388   400.000000  438.014840  630.303102   868.306973   893.955815   \n",
       "2389   300.000000  525.030475  693.600750   915.290664   912.664780   \n",
       "2390   199.002513  616.542780  764.852927   970.115972   941.076511   \n",
       "2391   100.005000  709.074044  841.225891  1031.400019   979.176184   \n",
       "\n",
       "            5           6           7            8            9     ...  \\\n",
       "0     980.080099  912.664780  893.955815   886.203701  1147.027899  ...   \n",
       "1     738.241153  851.469318  919.238816   992.471662  1197.351243  ...   \n",
       "2     512.957113  665.676348  750.416551   838.525492  1004.104078  ...   \n",
       "3     364.005494  559.016994  657.647322   756.637298   856.767180  ...   \n",
       "4     100.000000  300.000000  400.000000   500.000000   588.090129  ...   \n",
       "...          ...         ...         ...          ...          ...  ...   \n",
       "2387  888.699049  928.539714  963.527893  1007.266598  1253.546968  ...   \n",
       "2388  886.203701  904.299176  929.492872   964.446473  1217.404206  ...   \n",
       "2389  893.955815  889.694892  904.299176   929.492872  1187.633361  ...   \n",
       "2390  911.934756  885.225960  888.608463   903.119593  1164.544976  ...   \n",
       "2391  940.736945  892.964725  885.203931   888.699049  1151.077756  ...   \n",
       "\n",
       "             2382         2383         2384         2385        2386  \\\n",
       "0     1419.535840  1319.576447  1219.623712  1119.679418  823.502884   \n",
       "1      705.779711   614.918694   527.375578   445.112345  158.113883   \n",
       "2      851.469318   777.817459   710.633520   651.920241  427.931069   \n",
       "3     1050.297577   991.526601   939.747306   896.172416  701.783442   \n",
       "4     1290.590950  1222.957481  1160.010776  1102.553854  854.400375   \n",
       "...           ...          ...          ...          ...         ...   \n",
       "2387   919.870100   819.976219   720.111797   620.291061  330.130277   \n",
       "2388  1019.746047   919.827158   819.928046   720.056942  427.734731   \n",
       "2389  1119.679418  1019.746047   919.827158   819.928046  526.076991   \n",
       "2390  1220.655562  1120.714058  1020.784012   920.869155  625.799489   \n",
       "2391  1319.606381  1219.656099  1119.714696  1019.784781  724.006906   \n",
       "\n",
       "            2387        2388        2389        2390         2391  \n",
       "0     500.001000  400.000000  300.000000  199.002513   100.005000  \n",
       "1     357.191825  438.014840  525.030475  616.542780   709.074044  \n",
       "2     576.594311  630.303102  693.600750  764.852927   841.225891  \n",
       "3     829.810822  868.306973  915.290664  970.115972  1031.400019  \n",
       "4     885.203931  893.955815  912.664780  941.076511   979.176184  \n",
       "...          ...         ...         ...         ...          ...  \n",
       "2387    0.000000  100.005000  200.002500  301.000000   400.000000  \n",
       "2388  100.005000    0.000000  100.000000  201.002488   300.001667  \n",
       "2389  200.002500  100.000000    0.000000  101.004950   200.002500  \n",
       "2390  301.000000  201.002488  101.004950    0.000000    99.000000  \n",
       "2391  400.000000  300.001667  200.002500   99.000000     0.000000  \n",
       "\n",
       "[2392 rows x 2392 columns]"
      ]
     },
     "execution_count": 72,
     "metadata": {},
     "output_type": "execute_result"
    }
   ],
   "source": [
    "dm"
   ]
  },
  {
   "cell_type": "code",
   "execution_count": 73,
   "id": "cc800d82",
   "metadata": {},
   "outputs": [],
   "source": [
    "dm = dm.to_numpy()"
   ]
  },
  {
   "cell_type": "code",
   "execution_count": 74,
   "id": "7829e9e3",
   "metadata": {},
   "outputs": [
    {
     "data": {
      "text/plain": [
       "array([[  0.        , 804.39853307, 923.29951803, ..., 300.        ,\n",
       "        199.00251255, 100.00499988],\n",
       "       [804.39853307,   0.        , 275.        , ..., 525.03047531,\n",
       "        616.54278035, 709.07404409],\n",
       "       [923.29951803, 275.        ,   0.        , ..., 693.60074971,\n",
       "        764.85292704, 841.22589119],\n",
       "       ...,\n",
       "       [300.        , 525.03047531, 693.60074971, ...,   0.        ,\n",
       "        101.00495037, 200.00249998],\n",
       "       [199.00251255, 616.54278035, 764.85292704, ..., 101.00495037,\n",
       "          0.        ,  99.        ],\n",
       "       [100.00499988, 709.07404409, 841.22589119, ..., 200.00249998,\n",
       "         99.        ,   0.        ]])"
      ]
     },
     "execution_count": 74,
     "metadata": {},
     "output_type": "execute_result"
    }
   ],
   "source": [
    "dm"
   ]
  },
  {
   "cell_type": "code",
   "execution_count": 78,
   "id": "c1a68126",
   "metadata": {},
   "outputs": [
    {
     "name": "stdout",
     "output_type": "stream",
     "text": [
      "378062.82619143813\n"
     ]
    }
   ],
   "source": [
    "fitness = 0\n",
    "for i in range(dm.shape[0]):\n",
    "    fitness += dm[i - 1][i]\n",
    "print(fitness)"
   ]
  },
  {
   "cell_type": "code",
   "execution_count": 268,
   "id": "b227b12b",
   "metadata": {},
   "outputs": [],
   "source": [
    "x = [9,5,1,3,7,6,4,10,2,8,0]"
   ]
  },
  {
   "cell_type": "code",
   "execution_count": 277,
   "id": "a627997e",
   "metadata": {},
   "outputs": [
    {
     "name": "stdout",
     "output_type": "stream",
     "text": [
      "1\n"
     ]
    }
   ],
   "source": [
    "k = float('inf')\n",
    "while k > len(x):\n",
    "    k = math.ceil(random.exponential(scale=0.05*len(x)))\n",
    "    print(k)\n",
    "    \n",
    "l1 = rand.sample(range(len(x)), k)"
   ]
  },
  {
   "cell_type": "code",
   "execution_count": 278,
   "id": "0cb5bb8a",
   "metadata": {},
   "outputs": [
    {
     "data": {
      "text/plain": [
       "[9]"
      ]
     },
     "execution_count": 278,
     "metadata": {},
     "output_type": "execute_result"
    }
   ],
   "source": [
    "l1"
   ]
  },
  {
   "cell_type": "code",
   "execution_count": 279,
   "id": "0abc2605",
   "metadata": {},
   "outputs": [
    {
     "data": {
      "text/plain": [
       "[0]"
      ]
     },
     "execution_count": 279,
     "metadata": {},
     "output_type": "execute_result"
    }
   ],
   "source": [
    "l2 = []\n",
    "for i in l1:\n",
    "    l2.append(x.index(i))\n",
    "l2"
   ]
  },
  {
   "cell_type": "code",
   "execution_count": 280,
   "id": "cfdb4b1d",
   "metadata": {},
   "outputs": [
    {
     "data": {
      "text/plain": [
       "[0]"
      ]
     },
     "execution_count": 280,
     "metadata": {},
     "output_type": "execute_result"
    }
   ],
   "source": [
    "l2.sort()\n",
    "l2"
   ]
  },
  {
   "cell_type": "code",
   "execution_count": 281,
   "id": "8c672936",
   "metadata": {},
   "outputs": [],
   "source": [
    "for i,j in enumerate(l2):\n",
    "    x[j] = l1[i]"
   ]
  },
  {
   "cell_type": "code",
   "execution_count": 282,
   "id": "4bb5d228",
   "metadata": {},
   "outputs": [
    {
     "data": {
      "text/plain": [
       "[9, 5, 1, 3, 7, 6, 4, 10, 2, 8, 0]"
      ]
     },
     "execution_count": 282,
     "metadata": {},
     "output_type": "execute_result"
    }
   ],
   "source": [
    "x"
   ]
  },
  {
   "cell_type": "code",
   "execution_count": 207,
   "id": "9de13b5b",
   "metadata": {},
   "outputs": [],
   "source": [
    "temp = []\n",
    "for i in range(100):\n",
    "    temp.append(random.exponential(scale=0.05*len(x)))"
   ]
  },
  {
   "cell_type": "code",
   "execution_count": 208,
   "id": "b24cad1d",
   "metadata": {},
   "outputs": [
    {
     "data": {
      "text/plain": [
       "0.4938676478814893"
      ]
     },
     "execution_count": 208,
     "metadata": {},
     "output_type": "execute_result"
    }
   ],
   "source": [
    "np.mean(temp)"
   ]
  },
  {
   "cell_type": "code",
   "execution_count": 224,
   "id": "cf833fb0",
   "metadata": {},
   "outputs": [
    {
     "data": {
      "text/plain": [
       "1"
      ]
     },
     "execution_count": 224,
     "metadata": {},
     "output_type": "execute_result"
    }
   ],
   "source": [
    "math.ceil(random.exponential(scale=0.05*len(x)))"
   ]
  },
  {
   "cell_type": "code",
   "execution_count": 240,
   "id": "e54e3330",
   "metadata": {},
   "outputs": [],
   "source": [
    "\n",
    "while k > len(x):\n",
    "    k = math.ceil(random.exponential(scale=10*len(x)))\n",
    "    print(k)"
   ]
  },
  {
   "cell_type": "code",
   "execution_count": 241,
   "id": "e122cb82",
   "metadata": {},
   "outputs": [
    {
     "data": {
      "text/plain": [
       "1"
      ]
     },
     "execution_count": 241,
     "metadata": {},
     "output_type": "execute_result"
    }
   ],
   "source": [
    "k"
   ]
  },
  {
   "cell_type": "code",
   "execution_count": 232,
   "id": "909f68f8",
   "metadata": {},
   "outputs": [],
   "source": [
    "k= 11111111"
   ]
  },
  {
   "cell_type": "code",
   "execution_count": 292,
   "id": "d355621a",
   "metadata": {},
   "outputs": [],
   "source": [
    "def exponencial_mutation(individual):\n",
    "    \"\"\"Inversion mutation for a GA individual\n",
    "\n",
    "    Args:\n",
    "        individual (Individual): A GA individual from charles.py\n",
    "\n",
    "    Returns:\n",
    "        Individual: Mutated Individual\n",
    "    \"\"\"\n",
    "    # Position of the start and end of substring\n",
    "    k = float('inf')\n",
    "    while k > len(individual):\n",
    "        \n",
    "        k = math.ceil(random.exponential(scale=0.05 * len(individual)))\n",
    "        \n",
    "\n",
    "    l1 = rand.sample(range(len(individual), k))\n",
    "\n",
    "    l2 =[]\n",
    "\n",
    "    for i in l1:\n",
    "        l2.append(individual.index(i))\n",
    "\n",
    "    l2.sort()\n",
    "\n",
    "    for i, j in enumerate(l2):\n",
    "        individual[j] = l1[i]\n",
    "\n",
    "    return individual"
   ]
  },
  {
   "cell_type": "code",
   "execution_count": 291,
   "id": "99dd75dd",
   "metadata": {},
   "outputs": [
    {
     "ename": "TypeError",
     "evalue": "object of type 'int' has no len()",
     "output_type": "error",
     "traceback": [
      "\u001b[1;31m---------------------------------------------------------------------------\u001b[0m",
      "\u001b[1;31mTypeError\u001b[0m                                 Traceback (most recent call last)",
      "\u001b[1;32m~\\AppData\\Local\\Temp/ipykernel_14636/4108502181.py\u001b[0m in \u001b[0;36m<module>\u001b[1;34m\u001b[0m\n\u001b[1;32m----> 1\u001b[1;33m \u001b[0mlen\u001b[0m\u001b[1;33m(\u001b[0m\u001b[1;36m5\u001b[0m\u001b[1;33m)\u001b[0m\u001b[1;33m\u001b[0m\u001b[1;33m\u001b[0m\u001b[0m\n\u001b[0m",
      "\u001b[1;31mTypeError\u001b[0m: object of type 'int' has no len()"
     ]
    }
   ],
   "source": [
    "len(5)"
   ]
  },
  {
   "cell_type": "code",
   "execution_count": 250,
   "id": "8920d432",
   "metadata": {},
   "outputs": [
    {
     "ename": "TypeError",
     "evalue": "random_sample() takes at most 1 positional argument (2 given)",
     "output_type": "error",
     "traceback": [
      "\u001b[1;31m---------------------------------------------------------------------------\u001b[0m",
      "\u001b[1;31mTypeError\u001b[0m                                 Traceback (most recent call last)",
      "\u001b[1;32m~\\AppData\\Local\\Temp/ipykernel_14636/4063084368.py\u001b[0m in \u001b[0;36m<module>\u001b[1;34m\u001b[0m\n\u001b[0;32m      1\u001b[0m \u001b[1;32mimport\u001b[0m \u001b[0mrandom\u001b[0m\u001b[1;33m\u001b[0m\u001b[1;33m\u001b[0m\u001b[0m\n\u001b[0;32m      2\u001b[0m \u001b[1;31m#Generate 5 random numbers between 10 and 30\u001b[0m\u001b[1;33m\u001b[0m\u001b[1;33m\u001b[0m\u001b[1;33m\u001b[0m\u001b[0m\n\u001b[1;32m----> 3\u001b[1;33m \u001b[0mrandomlist\u001b[0m \u001b[1;33m=\u001b[0m \u001b[0mnp\u001b[0m\u001b[1;33m.\u001b[0m\u001b[0mrandom\u001b[0m\u001b[1;33m.\u001b[0m\u001b[0msample\u001b[0m\u001b[1;33m(\u001b[0m\u001b[0mrange\u001b[0m\u001b[1;33m(\u001b[0m\u001b[1;36m10\u001b[0m\u001b[1;33m,\u001b[0m \u001b[1;36m30\u001b[0m\u001b[1;33m)\u001b[0m\u001b[1;33m,\u001b[0m \u001b[1;36m5\u001b[0m\u001b[1;33m)\u001b[0m\u001b[1;33m\u001b[0m\u001b[1;33m\u001b[0m\u001b[0m\n\u001b[0m",
      "\u001b[1;32mmtrand.pyx\u001b[0m in \u001b[0;36mnumpy.random.mtrand.sample\u001b[1;34m()\u001b[0m\n",
      "\u001b[1;32mmtrand.pyx\u001b[0m in \u001b[0;36mnumpy.random.mtrand.RandomState.random_sample\u001b[1;34m()\u001b[0m\n",
      "\u001b[1;31mTypeError\u001b[0m: random_sample() takes at most 1 positional argument (2 given)"
     ]
    }
   ],
   "source": [
    "import random as rand\n",
    "#Generate 5 random numbers between 10 and 30\n",
    "randomlist = np.random.sample(range(10, 30), 5)"
   ]
  },
  {
   "cell_type": "code",
   "execution_count": 317,
   "id": "e3760934",
   "metadata": {},
   "outputs": [
    {
     "name": "stdout",
     "output_type": "stream",
     "text": [
      "1\n"
     ]
    },
    {
     "data": {
      "text/plain": [
       "[9, 5, 1, 3, 7, 6, 4, 10, 2, 8, 0]"
      ]
     },
     "execution_count": 317,
     "metadata": {},
     "output_type": "execute_result"
    }
   ],
   "source": [
    "exponencial_mutation(x)"
   ]
  },
  {
   "cell_type": "code",
   "execution_count": 316,
   "id": "ebd65a06",
   "metadata": {},
   "outputs": [],
   "source": [
    "import random as rand\n",
    "def exponencial_mutation(individual):\n",
    "    \"\"\"Inversion mutation for a GA individual\n",
    "\n",
    "    Args:\n",
    "        individual (Individual): A GA individual from charles.py\n",
    "\n",
    "    Returns:\n",
    "        Individual: Mutated Individual\n",
    "    \"\"\"\n",
    "    # Position of the start and end of substring\n",
    "    k = math.ceil(random.exponential(scale=0.05 * len(individual)))\n",
    "    if k > len(individual):\n",
    "        raise Exception(\n",
    "            f\"The number of mutations {k} is bigger than the size  {len(individual)} of the individual\")\n",
    "    else:\n",
    "        l1 = rand.sample(range(len(individual)), k)\n",
    "\n",
    "        l2 =[]\n",
    "\n",
    "        for i in l1:\n",
    "            l2.append(individual.index(i))\n",
    "\n",
    "        l2.sort()\n",
    "\n",
    "        for i, j in enumerate(l2):\n",
    "            individual[j] = l1[i]\n",
    "\n",
    "        return individual"
   ]
  },
  {
   "cell_type": "code",
   "execution_count": 315,
   "id": "cd828ede",
   "metadata": {},
   "outputs": [
    {
     "data": {
      "text/plain": [
       "[0]"
      ]
     },
     "execution_count": 315,
     "metadata": {},
     "output_type": "execute_result"
    }
   ],
   "source": [
    "rand.sample(range(len(x)), 1)"
   ]
  },
  {
   "cell_type": "code",
   "execution_count": 309,
   "id": "3f79178b",
   "metadata": {},
   "outputs": [
    {
     "data": {
      "text/plain": [
       "6"
      ]
     },
     "execution_count": 309,
     "metadata": {},
     "output_type": "execute_result"
    }
   ],
   "source": [
    "math.ceil(random.exponential(scale=0.05 * 100))"
   ]
  },
  {
   "cell_type": "code",
   "execution_count": 313,
   "id": "e450b62e",
   "metadata": {},
   "outputs": [
    {
     "data": {
      "text/plain": [
       "[5, 9]"
      ]
     },
     "execution_count": 313,
     "metadata": {},
     "output_type": "execute_result"
    }
   ],
   "source": [
    "rand.sample(range(len(x)),2)"
   ]
  },
  {
   "cell_type": "code",
   "execution_count": 8,
   "id": "5e4b2f36",
   "metadata": {},
   "outputs": [
    {
     "name": "stdout",
     "output_type": "stream",
     "text": [
      "ERROR: Could not find file C:\\Users\\tiago\\AppData\\Local\\Temp/ipykernel_13748/3263203817.py\n"
     ]
    }
   ],
   "source": [
    "# importing the library\n",
    "from memory_profiler import profile\n",
    " \n",
    "# instantiating the decorator\n",
    "@profile\n",
    "# code for which memory has to\n",
    "# be monitored\n",
    "def my_func():\n",
    "    x = [x for x in range(0, 1000)]\n",
    "    y = [y*100 for y in range(0, 1500)]\n",
    "    del x\n",
    "    return y\n",
    " \n",
    "if __name__ == '__main__':\n",
    "    my_func()"
   ]
  },
  {
   "cell_type": "code",
   "execution_count": 9,
   "id": "f348e07d",
   "metadata": {},
   "outputs": [
    {
     "name": "stdout",
     "output_type": "stream",
     "text": [
      "(2164, 3619674)\n"
     ]
    }
   ],
   "source": [
    "# importing the module\n",
    "import tracemalloc\n",
    " \n",
    "# code or function for which memory\n",
    "# has to be monitored\n",
    "def app():\n",
    "    lt = []\n",
    "    for i in range(0, 100000):\n",
    "        lt.append(i)\n",
    " \n",
    "# starting the monitoring\n",
    "tracemalloc.start()\n",
    " \n",
    "# function call\n",
    "app()\n",
    " \n",
    "# displaying the memory\n",
    "print(tracemalloc.get_traced_memory())\n",
    " \n",
    "# stopping the library\n",
    "tracemalloc.stop()"
   ]
  },
  {
   "cell_type": "code",
   "execution_count": 176,
   "id": "7cffb75b",
   "metadata": {},
   "outputs": [],
   "source": [
    "p1 = [3,0,1,2,4]\n",
    "p2 = [2,4,3,0,1]\n",
    "\n",
    "k = [4,3,2]\n",
    "\n",
    "o1 = [None] * 5\n",
    "o2 = [None] * 5"
   ]
  },
  {
   "cell_type": "code",
   "execution_count": 168,
   "id": "ac751d94",
   "metadata": {},
   "outputs": [],
   "source": [
    "o1 = [3,2,1,]"
   ]
  },
  {
   "cell_type": "code",
   "execution_count": 177,
   "id": "8d64d433",
   "metadata": {},
   "outputs": [],
   "source": [
    "l1 = []\n",
    "for i in k:\n",
    "        l1.append(p1.index(i))"
   ]
  },
  {
   "cell_type": "code",
   "execution_count": 178,
   "id": "f3323333",
   "metadata": {},
   "outputs": [
    {
     "data": {
      "text/plain": [
       "[0, 3, 4]"
      ]
     },
     "execution_count": 178,
     "metadata": {},
     "output_type": "execute_result"
    }
   ],
   "source": [
    "l1.sort()\n",
    "l1"
   ]
  },
  {
   "cell_type": "code",
   "execution_count": 179,
   "id": "48546e83",
   "metadata": {},
   "outputs": [],
   "source": [
    "l2 = []\n",
    "for i in k:\n",
    "        l2.append(p2.index(i))"
   ]
  },
  {
   "cell_type": "code",
   "execution_count": 180,
   "id": "e7db9b6a",
   "metadata": {},
   "outputs": [
    {
     "data": {
      "text/plain": [
       "[0, 1, 2]"
      ]
     },
     "execution_count": 180,
     "metadata": {},
     "output_type": "execute_result"
    }
   ],
   "source": [
    "l2.sort()\n",
    "l2"
   ]
  },
  {
   "cell_type": "code",
   "execution_count": 181,
   "id": "25521abd",
   "metadata": {},
   "outputs": [
    {
     "data": {
      "text/plain": [
       "[0, 3, 4]"
      ]
     },
     "execution_count": 181,
     "metadata": {},
     "output_type": "execute_result"
    }
   ],
   "source": [
    "l1"
   ]
  },
  {
   "cell_type": "code",
   "execution_count": 182,
   "id": "f8deda52",
   "metadata": {},
   "outputs": [
    {
     "name": "stdout",
     "output_type": "stream",
     "text": [
      "2 0\n",
      "3 1\n",
      "4 2\n"
     ]
    }
   ],
   "source": [
    "j = 0\n",
    "for i in range(len(p1)):\n",
    "    if i in k:\n",
    "        print(i,j)\n",
    "        o1[l1[j]] = p2[l2[j]]\n",
    "        o2[l2[j]] = p1[l1[j]]\n",
    "        j += 1\n",
    "    else:\n",
    "        o1[p1.index(i)] = i\n",
    "        o2[p2.index(i)] = i"
   ]
  },
  {
   "cell_type": "code",
   "execution_count": 183,
   "id": "674dce45",
   "metadata": {},
   "outputs": [
    {
     "data": {
      "text/plain": [
       "[3, 0, 1, 2, 4]"
      ]
     },
     "execution_count": 183,
     "metadata": {},
     "output_type": "execute_result"
    }
   ],
   "source": [
    "p1"
   ]
  },
  {
   "cell_type": "code",
   "execution_count": 184,
   "id": "f9fcc6b0",
   "metadata": {},
   "outputs": [
    {
     "data": {
      "text/plain": [
       "[2, 4, 3, 0, 1]"
      ]
     },
     "execution_count": 184,
     "metadata": {},
     "output_type": "execute_result"
    }
   ],
   "source": [
    "p2"
   ]
  },
  {
   "cell_type": "code",
   "execution_count": 185,
   "id": "27eebadb",
   "metadata": {},
   "outputs": [
    {
     "data": {
      "text/plain": [
       "[2, 0, 1, 4, 3]"
      ]
     },
     "execution_count": 185,
     "metadata": {},
     "output_type": "execute_result"
    }
   ],
   "source": [
    "o1"
   ]
  },
  {
   "cell_type": "code",
   "execution_count": 186,
   "id": "e91c2e58",
   "metadata": {},
   "outputs": [
    {
     "data": {
      "text/plain": [
       "[3, 2, 4, 0, 1]"
      ]
     },
     "execution_count": 186,
     "metadata": {},
     "output_type": "execute_result"
    }
   ],
   "source": []
  },
  {
   "cell_type": "code",
   "execution_count": 198,
   "id": "ed39d974",
   "metadata": {},
   "outputs": [],
   "source": [
    "import random as rand\n",
    "def switch_crossover(p1,p2):\n",
    "    \"\"\"Inversion mutation for a GA individual\n",
    "\n",
    "    Args:\n",
    "        individual (Individual): A GA individual from charles.py\n",
    "\n",
    "    Returns:\n",
    "        Individual: Mutated Individual\n",
    "    \"\"\"\n",
    "    \n",
    "    o1 = [None] * 5\n",
    "    o2 = [None] * 5\n",
    "\n",
    "    # Position of the start and end of substring\n",
    "    temp = round(rand.uniform(0.25,0.75) * len(p1))\n",
    "    \n",
    "    #Choose the elements\n",
    "    k = rand.sample(range(len(p1)), temp)\n",
    "    \n",
    "    #lists\n",
    "    l1 = []\n",
    "    l2 = []\n",
    "    for i in k:\n",
    "        l1.append(p1.index(i))\n",
    "        l2.append(p2.index(i))\n",
    "    \n",
    "    l1.sort()\n",
    "    l2.sort()\n",
    "    \n",
    "    j = 0\n",
    "    for i in range(len(p1)):\n",
    "        if i in k:\n",
    "            print(i,j)\n",
    "            o1[l1[j]] = p2[l2[j]]\n",
    "            o2[l2[j]] = p1[l1[j]]\n",
    "            j += 1\n",
    "        else:\n",
    "            o1[p1.index(i)] = i\n",
    "            o2[p2.index(i)] = i\n",
    "    \n",
    "    return o1,o2"
   ]
  },
  {
   "cell_type": "code",
   "execution_count": 192,
   "id": "bed41b0b",
   "metadata": {},
   "outputs": [
    {
     "data": {
      "text/plain": [
       "4"
      ]
     },
     "execution_count": 192,
     "metadata": {},
     "output_type": "execute_result"
    }
   ],
   "source": [
    "import random as rand\n",
    "round(rand.uniform(0.25,0.75) * len(p1))"
   ]
  },
  {
   "cell_type": "code",
   "execution_count": 205,
   "id": "68eae670",
   "metadata": {},
   "outputs": [
    {
     "name": "stdout",
     "output_type": "stream",
     "text": [
      "1 0\n",
      "3 1\n",
      "4 2\n"
     ]
    },
    {
     "data": {
      "text/plain": [
       "([4, 0, 3, 2, 1], [2, 3, 1, 0, 4])"
      ]
     },
     "execution_count": 205,
     "metadata": {},
     "output_type": "execute_result"
    }
   ],
   "source": [
    "switch_crossover(p1,p2)"
   ]
  },
  {
   "cell_type": "code",
   "execution_count": 16,
   "id": "5bdcc8ff",
   "metadata": {},
   "outputs": [],
   "source": [
    "x = {1: 'A', 2:'B', 3:'C', 'AB': 'D'}"
   ]
  },
  {
   "cell_type": "code",
   "execution_count": 17,
   "id": "982c48c1",
   "metadata": {},
   "outputs": [
    {
     "data": {
      "text/plain": [
       "{1: 'A', 2: 'B', 3: 'C', 'AB': 'D'}"
      ]
     },
     "execution_count": 17,
     "metadata": {},
     "output_type": "execute_result"
    }
   ],
   "source": [
    "x"
   ]
  },
  {
   "cell_type": "code",
   "execution_count": 3,
   "id": "8f2e3e32",
   "metadata": {},
   "outputs": [
    {
     "data": {
      "text/plain": [
       "'A'"
      ]
     },
     "execution_count": 3,
     "metadata": {},
     "output_type": "execute_result"
    }
   ],
   "source": [
    "x[1]"
   ]
  },
  {
   "cell_type": "code",
   "execution_count": 18,
   "id": "6c4d32c5",
   "metadata": {},
   "outputs": [
    {
     "data": {
      "text/plain": [
       "dict_keys([1, 2, 3, 'AB'])"
      ]
     },
     "execution_count": 18,
     "metadata": {},
     "output_type": "execute_result"
    }
   ],
   "source": [
    "x.keys()"
   ]
  },
  {
   "cell_type": "code",
   "execution_count": 20,
   "id": "58ead382",
   "metadata": {},
   "outputs": [
    {
     "data": {
      "text/plain": [
       "'D'"
      ]
     },
     "execution_count": 20,
     "metadata": {},
     "output_type": "execute_result"
    }
   ],
   "source": [
    "x[list(x)[-1]]"
   ]
  },
  {
   "cell_type": "code",
   "execution_count": null,
   "id": "9879e8c0",
   "metadata": {},
   "outputs": [],
   "source": []
  }
 ],
 "metadata": {
  "kernelspec": {
   "display_name": "Python 3 (ipykernel)",
   "language": "python",
   "name": "python3"
  },
  "language_info": {
   "codemirror_mode": {
    "name": "ipython",
    "version": 3
   },
   "file_extension": ".py",
   "mimetype": "text/x-python",
   "name": "python",
   "nbconvert_exporter": "python",
   "pygments_lexer": "ipython3",
   "version": "3.8.11"
  }
 },
 "nbformat": 4,
 "nbformat_minor": 5
}
